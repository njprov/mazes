{
 "cells": [
  {
   "cell_type": "code",
   "execution_count": 64,
   "metadata": {},
   "outputs": [
    {
     "name": "stderr",
     "output_type": "stream",
     "text": [
      "WARNING: replacing module BinaryTrees.\n"
     ]
    }
   ],
   "source": [
    "using Graphs\n",
    "\n",
    "include(\"Mazes.jl\")\n",
    "using .Mazes\n",
    "\n",
    "include(\"BinaryTrees.jl\")\n",
    "using .BinaryTrees"
   ]
  },
  {
   "cell_type": "code",
   "execution_count": 65,
   "metadata": {},
   "outputs": [
    {
     "data": {
      "text/plain": [
       "+---+---+---+---+\n",
       "|               |\n",
       "+---+   +---+   +\n",
       "|       |       |\n",
       "+---+---+   +   +\n",
       "|           |   |\n",
       "+   +---+---+   +\n",
       "|   |           |\n",
       "+---+---+---+---+\n"
      ]
     },
     "metadata": {},
     "output_type": "display_data"
    }
   ],
   "source": [
    "# Test Maxes\n",
    "m = Mazes.Maze((4,4))\n",
    "add_edge!(m.graph,01,05)\n",
    "add_edge!(m.graph,02,06)\n",
    "add_edge!(m.graph,03,07)\n",
    "add_edge!(m.graph,04,03)\n",
    "add_edge!(m.graph,05,09)\n",
    "add_edge!(m.graph,06,05)\n",
    "add_edge!(m.graph,07,11)\n",
    "add_edge!(m.graph,08,12)\n",
    "add_edge!(m.graph,09,13)\n",
    "add_edge!(m.graph,10,14)\n",
    "add_edge!(m.graph,11,10)\n",
    "add_edge!(m.graph,12,16)\n",
    "add_edge!(m.graph,14,13)\n",
    "add_edge!(m.graph,15,14)\n",
    "add_edge!(m.graph,16,15)\n",
    "\n",
    "m"
   ]
  },
  {
   "cell_type": "code",
   "execution_count": 66,
   "metadata": {},
   "outputs": [
    {
     "ename": "MethodError",
     "evalue": "MethodError: no method matching generator!(::Maze)\nClosest candidates are:\n  generator!(!Matched::Main.BinaryTrees.Mazes.Maze) at /mnt/wsl/PHYSICALDRIVE0p3/jack/mazes/julia/BinaryTrees.jl:8",
     "output_type": "error",
     "traceback": [
      "MethodError: no method matching generator!(::Maze)\n",
      "Closest candidates are:\n",
      "  generator!(!Matched::Main.BinaryTrees.Mazes.Maze) at /mnt/wsl/PHYSICALDRIVE0p3/jack/mazes/julia/BinaryTrees.jl:8\n",
      "\n",
      "Stacktrace:\n",
      "  [1] top-level scope\n",
      "    @ /mnt/wsl/PHYSICALDRIVE0p3/jack/mazes/julia/demos.ipynb:3\n",
      "  [2] eval\n",
      "    @ ./boot.jl:373 [inlined]\n",
      "  [3] include_string(mapexpr::typeof(REPL.softscope), mod::Module, code::String, filename::String)\n",
      "    @ Base ./loading.jl:1196\n",
      "  [4] #invokelatest#2\n",
      "    @ ./essentials.jl:716 [inlined]\n",
      "  [5] invokelatest\n",
      "    @ ./essentials.jl:714 [inlined]\n",
      "  [6] (::VSCodeServer.var\"#150#151\"{VSCodeServer.NotebookRunCellArguments, String})()\n",
      "    @ VSCodeServer ~/.vscode-server/extensions/julialang.language-julia-1.5.10/scripts/packages/VSCodeServer/src/serve_notebook.jl:18\n",
      "  [7] withpath(f::VSCodeServer.var\"#150#151\"{VSCodeServer.NotebookRunCellArguments, String}, path::String)\n",
      "    @ VSCodeServer ~/.vscode-server/extensions/julialang.language-julia-1.5.10/scripts/packages/VSCodeServer/src/repl.jl:185\n",
      "  [8] notebook_runcell_request(conn::VSCodeServer.JSONRPC.JSONRPCEndpoint{Base.PipeEndpoint, Base.PipeEndpoint}, params::VSCodeServer.NotebookRunCellArguments)\n",
      "    @ VSCodeServer ~/.vscode-server/extensions/julialang.language-julia-1.5.10/scripts/packages/VSCodeServer/src/serve_notebook.jl:14\n",
      "  [9] dispatch_msg(x::VSCodeServer.JSONRPC.JSONRPCEndpoint{Base.PipeEndpoint, Base.PipeEndpoint}, dispatcher::VSCodeServer.JSONRPC.MsgDispatcher, msg::Dict{String, Any})\n",
      "    @ VSCodeServer.JSONRPC ~/.vscode-server/extensions/julialang.language-julia-1.5.10/scripts/packages/JSONRPC/src/typed.jl:67\n",
      " [10] serve_notebook(pipename::String; crashreporting_pipename::String)\n",
      "    @ VSCodeServer ~/.vscode-server/extensions/julialang.language-julia-1.5.10/scripts/packages/VSCodeServer/src/serve_notebook.jl:94\n",
      " [11] top-level scope\n",
      "    @ ~/.vscode-server/extensions/julialang.language-julia-1.5.10/scripts/notebook/notebook.jl:12\n",
      " [12] include(mod::Module, _path::String)\n",
      "    @ Base ./Base.jl:418\n",
      " [13] exec_options(opts::Base.JLOptions)\n",
      "    @ Base ./client.jl:292\n",
      " [14] _start()\n",
      "    @ Base ./client.jl:495"
     ]
    }
   ],
   "source": [
    "# Test BinaryTrees\n",
    "m = Mazes.Maze((4,4))\n",
    "BinaryTrees.generator!(m)\n",
    "m"
   ]
  },
  {
   "cell_type": "code",
   "execution_count": null,
   "metadata": {},
   "outputs": [],
   "source": []
  }
 ],
 "metadata": {
  "kernelspec": {
   "display_name": "Julia 1.7.1",
   "language": "julia",
   "name": "julia-1.7"
  },
  "language_info": {
   "file_extension": ".jl",
   "mimetype": "application/julia",
   "name": "julia",
   "version": "1.7.1"
  },
  "orig_nbformat": 4
 },
 "nbformat": 4,
 "nbformat_minor": 2
}
