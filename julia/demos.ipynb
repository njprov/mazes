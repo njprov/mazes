{
 "cells": [
  {
   "cell_type": "code",
   "execution_count": 101,
   "metadata": {},
   "outputs": [
    {
     "name": "stderr",
     "output_type": "stream",
     "text": [
      "WARNING: replacing module Maxes.\n",
      "WARNING: using Maxes.Maxe in module Main conflicts with an existing identifier.\n"
     ]
    }
   ],
   "source": [
    "using Graphs\n",
    "\n",
    "include(\"Maxes.jl\")\n",
    "using .Maxes"
   ]
  },
  {
   "cell_type": "code",
   "execution_count": 102,
   "metadata": {},
   "outputs": [
    {
     "data": {
      "text/plain": [
       "+---+---+---+---+\n",
       "|               |\n",
       "+---+   +---+   +\n",
       "|       |       |\n",
       "+---+---+   +   +\n",
       "|           |   |\n",
       "+   +---+---+   +\n",
       "|   |           |\n",
       "+---+---+---+---+\n"
      ]
     },
     "metadata": {},
     "output_type": "display_data"
    }
   ],
   "source": [
    "m = Maxes.Maxe((4,4))\n",
    "add_edge!(m.graph,01,05)\n",
    "add_edge!(m.graph,02,06)\n",
    "add_edge!(m.graph,03,07)\n",
    "add_edge!(m.graph,04,03)\n",
    "add_edge!(m.graph,05,09)\n",
    "add_edge!(m.graph,06,05)\n",
    "add_edge!(m.graph,07,11)\n",
    "add_edge!(m.graph,08,12)\n",
    "add_edge!(m.graph,09,13)\n",
    "add_edge!(m.graph,10,14)\n",
    "add_edge!(m.graph,11,10)\n",
    "add_edge!(m.graph,12,16)\n",
    "add_edge!(m.graph,14,13)\n",
    "add_edge!(m.graph,15,14)\n",
    "add_edge!(m.graph,16,15)\n",
    "\n",
    "m"
   ]
  },
  {
   "cell_type": "code",
   "execution_count": null,
   "metadata": {},
   "outputs": [],
   "source": []
  }
 ],
 "metadata": {
  "kernelspec": {
   "display_name": "Julia 1.7.1",
   "language": "julia",
   "name": "julia-1.7"
  },
  "language_info": {
   "file_extension": ".jl",
   "mimetype": "application/julia",
   "name": "julia",
   "version": "1.7.1"
  },
  "orig_nbformat": 4
 },
 "nbformat": 4,
 "nbformat_minor": 2
}
